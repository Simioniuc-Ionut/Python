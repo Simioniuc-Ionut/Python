{
 "cells": [
  {
   "metadata": {},
   "cell_type": "markdown",
   "source": [
    "Exercitiul:1\n",
    "\n",
    "Write a function that receives as parameters two lists a and b and returns a list of sets containing: (a intersected with b, a reunited with b, a - b, b - a)"
   ],
   "id": "1bd2f0b766f71e9"
  },
  {
   "cell_type": "code",
   "id": "initial_id",
   "metadata": {
    "collapsed": true,
    "ExecuteTime": {
     "end_time": "2024-10-22T08:50:51.190973Z",
     "start_time": "2024-10-22T08:50:51.179212Z"
    }
   },
   "source": [
    "from numpy import character\n",
    "\n",
    "\n",
    "def lists_sets(a : list,b : list ) -> list[set]:\n",
    "    return [set(a) & set(b) ,set(a) | set(b) , set(a) - set(b), set(b)-set(a)]\n",
    "\n",
    "print(lists_sets([1,2,3],[3,4,5]))"
   ],
   "outputs": [
    {
     "name": "stdout",
     "output_type": "stream",
     "text": [
      "list[{3}, {1, 2, 3, 4, 5}, {1, 2}, {4, 5}]\n"
     ]
    }
   ],
   "execution_count": 1
  },
  {
   "metadata": {},
   "cell_type": "markdown",
   "source": [
    "Exercitiul:2\n",
    "\n",
    "Write a function that receives a string as a parameter and returns a dictionary in which the keys are the characters in the character string and the values are the number of occurrences of that character in the given text. Example: For string \"Ana has apples.\" given as a parameter the function will return the dictionary:\n",
    "\n",
    "{'a': 3, 's': 2, '.': 1, 'e': 1, 'h': 1, 'l': 1, 'p': 2, ' ': 2, 'A': 1, 'n': 1} "
   ],
   "id": "c99917b9a93ce8b6"
  },
  {
   "metadata": {
    "ExecuteTime": {
     "end_time": "2024-10-22T09:05:46.750837Z",
     "start_time": "2024-10-22T09:05:46.742919Z"
    }
   },
   "cell_type": "code",
   "source": [
    "def count_characters(param : str) -> dict:\n",
    "    char_count= {char: 0 for char in param}\n",
    "    for i in range(len(param)):\n",
    "        char_count[param[i]] += 1\n",
    "    return char_count\n",
    "\n",
    "from collections import Counter\n",
    "\n",
    "def count_characters2(param: str) -> dict:\n",
    "    return dict(Counter(param))\n",
    "\n",
    "from collections import defaultdict\n",
    "def count_characters3(param: str) -> dict:\n",
    "    char_count = defaultdict(int) # put 0 as default value for every new key in the dictionary\n",
    "    for char in param:\n",
    "        char_count[char] += 1\n",
    "    return dict(char_count)\n",
    "print(count_characters(\"Ana has apples.\"))\n",
    "print(count_characters2(\"Ana has apples.\"))\n",
    "print(count_characters3(\"Ana has apples.\"))"
   ],
   "id": "ee721487b415a6e9",
   "outputs": [
    {
     "name": "stdout",
     "output_type": "stream",
     "text": [
      "{'A': 1, 'n': 1, 'a': 3, ' ': 2, 'h': 1, 's': 2, 'p': 2, 'l': 1, 'e': 1, '.': 1}\n",
      "{'A': 1, 'n': 1, 'a': 3, ' ': 2, 'h': 1, 's': 2, 'p': 2, 'l': 1, 'e': 1, '.': 1}\n",
      "{'A': 1, 'n': 1, 'a': 3, ' ': 2, 'h': 1, 's': 2, 'p': 2, 'l': 1, 'e': 1, '.': 1}\n"
     ]
    }
   ],
   "execution_count": 8
  },
  {
   "metadata": {},
   "cell_type": "markdown",
   "source": [
    "Exercitiul 3: \n",
    "\n",
    "Compare two dictionaries without using the operator \"==\" returning True or False. (Attention, dictionaries must be recursively covered because they can contain other containers, such as dictionaries, lists, sets, etc.)"
   ],
   "id": "8cf8fbc0c43557d1"
  },
  {
   "metadata": {
    "ExecuteTime": {
     "end_time": "2024-10-22T11:37:13.388223Z",
     "start_time": "2024-10-22T11:37:13.382022Z"
    }
   },
   "cell_type": "code",
   "source": [
    "def compare_two_dict( dict1 : dict , dict2 : dict):\n",
    "    for key1 , key2 in zip(dict1,dict2):\n",
    "        value1 , value2 = dict1[key1] , dict2[key2]\n",
    "        if isinstance(value1,dict):\n",
    "            if isinstance(value2,dict):\n",
    "                if not compare_two_dict(value1,value2):\n",
    "                    return False\n",
    "            else:\n",
    "                return False\n",
    "        elif isinstance(value1 ,(list,tuple)):\n",
    "            if isinstance(value2 ,(list,tuple)):\n",
    "                if len(value1) != len(value2):\n",
    "                    return False\n",
    "                for val1, val2 in zip(value1,value2):\n",
    "                    if val1 != val2:\n",
    "                        return False\n",
    "            else:\n",
    "                return False\n",
    "        elif value1 != value2:\n",
    "            return False\n",
    "    return True\n",
    "\n",
    "print(compare_two_dict({1:2,3:4},{1:2,3:4}))\n",
    "nested_dict1 = {\n",
    "    'key1': {\n",
    "        'subkey1': 1,\n",
    "        'subkey2': 'value2',\n",
    "        'subkey3': {\n",
    "            'subsubkey1': 10,\n",
    "            'subsubkey2': 'value3'\n",
    "        }\n",
    "    },\n",
    "    'key2': 2,\n",
    "    'key3': 'value3'\n",
    "}\n",
    "nested_dict2 = {\n",
    "    'key1': [1, 2, 3, {'subkey1': 'value1', 'subkey2': 2}],\n",
    "    'key2': 'value2',\n",
    "    'key3': [4, 5, 6]\n",
    "}\n",
    "print(compare_two_dict(nested_dict1,nested_dict2))\n",
    "nested_dict3 = {\n",
    "    'key1': {\n",
    "        'subkey1': [1, 2, 3],\n",
    "        'subkey2': {\n",
    "            'subsubkey1': 'value1',\n",
    "            'subsubkey2': [4, 5, 6]\n",
    "        }\n",
    "    },\n",
    "    'key2': 'value2',\n",
    "    'key3': 3,\n",
    "    'key4': [7, 8, {'subkey3': 'value3'}]\n",
    "}\n",
    "nested_dict4 = {\n",
    "    'key1': {\n",
    "        'subkey1': {\n",
    "            'subsubkey1': [1, 2, {'subsubsubkey1': 'value1'}],\n",
    "            'subsubkey2': 'value2'\n",
    "        },\n",
    "        'subkey2': 3\n",
    "    },\n",
    "    'key2': [4, 5, {'subkey3': 'value3', 'subkey4': [6, 7]}],\n",
    "    'key3': 'value4'\n",
    "}\n",
    "print(compare_two_dict(nested_dict3,nested_dict4)"
   ],
   "id": "22ee4484d2fec64f",
   "outputs": [
    {
     "name": "stdout",
     "output_type": "stream",
     "text": [
      "True\n",
      "False\n",
      "True\n"
     ]
    }
   ],
   "execution_count": 13
  },
  {
   "metadata": {},
   "cell_type": "markdown",
   "source": [
    "Exercitiul 4:\n",
    "\n",
    "The build_xml_element function receives the following parameters: tag, content, and key-value elements given as name-parameters. Build and return a string that represents the corresponding XML element. Example: build_xml_element (\"a\", \"Hello there\", href =\" http://python.org \", _class =\" my-link \", id= \" someid \") returns the string = \"<a href=\"http://python.org \"_class = \" my-link \" id = \" someid \"> Hello there </a>\""
   ],
   "id": "93c9979081c9a471"
  },
  {
   "metadata": {
    "ExecuteTime": {
     "end_time": "2024-10-22T11:45:13.923766Z",
     "start_time": "2024-10-22T11:45:13.919592Z"
    }
   },
   "cell_type": "code",
   "source": [
    "def build_xml_elements(tag,content,**key_value):\n",
    "    expresion = f\"<{tag} \"\n",
    "    for elements in key_value:\n",
    "        if elements == \"href\":\n",
    "            expresion = expresion + f\"href={key_value[elements]} \"\n",
    "        elif elements == \"_class\":\n",
    "            expresion = expresion + f\"_class={key_value[elements]} \"\n",
    "        elif elements == \"id\":\n",
    "            expresion = expresion + f\"id={key_value[elements]} \"\n",
    "            \n",
    "    return expresion + f\">{content}<\\\\{tag}>\"\n",
    "\n",
    "print(build_xml_elements(\"a\",\"Hello there\",href=\"http://python.org\",_class=\"my-link\",id=\"someid\"))"
   ],
   "id": "1754237f6d45002f",
   "outputs": [
    {
     "name": "stdout",
     "output_type": "stream",
     "text": [
      "<a href=http://python.org _class=my-link id=someid >Hello there<\\a>\n"
     ]
    }
   ],
   "execution_count": 19
  },
  {
   "metadata": {},
   "cell_type": "markdown",
   "source": [
    "Exercitiul 5:\n",
    "\n",
    "The validate_dict function that receives as a parameter a set of tuples ( that represents validation rules for a dictionary that has strings as keys and values) and a dictionary. A rule is defined as follows: (key, \"prefix\", \"middle\", \"suffix\"). A value is considered valid if it starts with \"prefix\", \"middle\" is inside the value (not at the beginning or end) and ends with \"suffix\". The function will return True if the given dictionary matches all the rules, False otherwise. Example: the rules s={(\"key1\", \"\", \"inside\", \"\"), (\"key2\", \"start\", \"middle\", \"winter\")} and d= {\"key1\": \"come inside, it's too cold out\", \"key3\": \"this is not valid\"} => False because although the rules are respected for \"key1\" and \"key2\" \"key3\" that does not appear in the rules.\n",
    "\n"
   ],
   "id": "de2e89acb825c5ae"
  },
  {
   "metadata": {
    "ExecuteTime": {
     "end_time": "2024-10-22T12:02:13.638278Z",
     "start_time": "2024-10-22T12:02:13.633283Z"
    }
   },
   "cell_type": "code",
   "source": [
    "def validate_dict(s: tuple, d: dict) -> bool:\n",
    "    for key, prefix, middle, suffix in s:\n",
    "        if key not in d:\n",
    "            return False\n",
    "        value = d[key]\n",
    "        if not value.startswith(prefix) or not value.endswith(suffix):\n",
    "            return False\n",
    "        if middle not in value[1:-1]:\n",
    "            return False\n",
    "    return True\n",
    "s = {(\"key1\", \"\", \"inside\", \"\"), (\"key2\", \"start\", \"middle\", \"winter\")}\n",
    "d = {\"key1\": \"come inside, it's too cold out\", \"key3\": \"this is not valid\"}\n",
    "print(validate_dict(s,d))\n",
    "s = {(\"key1\", \"\", \"inside\", \"\"), (\"key2\", \"start\", \"middle\", \"winter\")}\n",
    "d = {\"key1\": \"come inside, it's too cold out\", \"key2\": \"start middle winter\"}\n",
    "print(validate_dict(s, d)) "
   ],
   "id": "e7dae4312ff3e9c8",
   "outputs": [
    {
     "name": "stdout",
     "output_type": "stream",
     "text": [
      "False\n",
      "True\n"
     ]
    }
   ],
   "execution_count": 32
  },
  {
   "metadata": {},
   "cell_type": "markdown",
   "source": [
    "Exercitiul 6:\n",
    "\n",
    "Write a function that receives as a parameter a list and returns a tuple (a, b), a representing the number of unique elements in the list, and b representing the number of duplicate elements in the list (use sets to achieve this objective)."
   ],
   "id": "68c66adfd03948ba"
  },
  {
   "metadata": {
    "ExecuteTime": {
     "end_time": "2024-10-22T12:04:40.426976Z",
     "start_time": "2024-10-22T12:04:40.423911Z"
    }
   },
   "cell_type": "code",
   "source": [
    "def unique_elements(a : list) -> tuple:\n",
    "    return len(set(a)), len(a) - len(set(a))\n",
    "\n",
    "print(unique_elements([1,2,3,4,5,5,6,6,7,8,9,9,9,9]))"
   ],
   "id": "60bf8bfcabf5dfbe",
   "outputs": [
    {
     "name": "stdout",
     "output_type": "stream",
     "text": [
      "(9, 5)\n"
     ]
    }
   ],
   "execution_count": 33
  },
  {
   "metadata": {},
   "cell_type": "markdown",
   "source": [
    "Exercitiul 7:\n",
    "\n",
    "Write a function that receives a variable number of sets and returns a dictionary with the following operations from all sets two by two: reunion, intersection, a-b, b-a. The key will have the following form: \"a op b\", where a and b are two sets, and op is the applied operator: |, &, -. Ex:\n",
    "\n",
    "{1,2}, {2, 3} =>\n",
    "{\n",
    "    \"{1, 2} | {2, 3}\":  {1, 2, 3},\n",
    "    \"{1, 2} & {2, 3}\":  { 2 },\n",
    "    \"{1, 2} - {2, 3}\":  { 1 },\n",
    "    ...\n",
    "}"
   ],
   "id": "1df9ce1c8588b251"
  },
  {
   "metadata": {
    "ExecuteTime": {
     "end_time": "2024-10-22T12:13:39.298874Z",
     "start_time": "2024-10-22T12:13:39.293856Z"
    }
   },
   "cell_type": "code",
   "source": [
    "def set_operations(*args):\n",
    "    if len(args) < 2:\n",
    "        return \"Invalid input\"\n",
    "    result = {}\n",
    "    sets = [set(arg) for arg in args] \n",
    "    for i in range(len(sets) - 1):\n",
    "        for j in range(i + 1, len(sets)):\n",
    "            set1, set2 = sets[i], sets[j]\n",
    "            result[f\"{args[i]} | {args[j]}\"] = set1 | set2\n",
    "            result[f\"{args[i]} & {args[j]}\"] = set1 & set2\n",
    "            result[f\"{args[i]} - {args[j]}\"] = set1 - set2\n",
    "            result[f\"{args[j]} - {args[i]}\"] = set2 - set1\n",
    "            \n",
    "    return result\n",
    "print(set_operations({1,2},{2,3},{3,4}))\n",
    "print(set_operations({1, 2, 3}, {3, 4, 5}, {5, 6, 7}))\n"
   ],
   "id": "bc49b54467b8a351",
   "outputs": [
    {
     "name": "stdout",
     "output_type": "stream",
     "text": [
      "{'{1, 2} | {2, 3}': {1, 2, 3}, '{1, 2} & {2, 3}': {2}, '{1, 2} - {2, 3}': {1}, '{2, 3} - {1, 2}': {3}, '{1, 2} | {3, 4}': {1, 2, 3, 4}, '{1, 2} & {3, 4}': set(), '{1, 2} - {3, 4}': {1, 2}, '{3, 4} - {1, 2}': {3, 4}, '{2, 3} | {3, 4}': {2, 3, 4}, '{2, 3} & {3, 4}': {3}, '{2, 3} - {3, 4}': {2}, '{3, 4} - {2, 3}': {4}}\n",
      "{'{1, 2, 3} | {3, 4, 5}': {1, 2, 3, 4, 5}, '{1, 2, 3} & {3, 4, 5}': {3}, '{1, 2, 3} - {3, 4, 5}': {1, 2}, '{3, 4, 5} - {1, 2, 3}': {4, 5}, '{1, 2, 3} | {5, 6, 7}': {1, 2, 3, 5, 6, 7}, '{1, 2, 3} & {5, 6, 7}': set(), '{1, 2, 3} - {5, 6, 7}': {1, 2, 3}, '{5, 6, 7} - {1, 2, 3}': {5, 6, 7}, '{3, 4, 5} | {5, 6, 7}': {3, 4, 5, 6, 7}, '{3, 4, 5} & {5, 6, 7}': {5}, '{3, 4, 5} - {5, 6, 7}': {3, 4}, '{5, 6, 7} - {3, 4, 5}': {6, 7}}\n"
     ]
    }
   ],
   "execution_count": 37
  },
  {
   "metadata": {},
   "cell_type": "markdown",
   "source": [
    "Exercitiul 10:\n",
    "\n",
    "Write a function that receives a single dict parameter named mapping. This dictionary always contains a string key \"start\". Starting with the value of this key you must obtain a list of objects by iterating over mapping in the following way: the value of the current key is the key for the next value, until you find a loop (a key that was visited before). The function must return the list of objects obtained as previously described. Ex:\n",
    "\n",
    "loop({'start': 'a', 'b': 'a', 'a': '6', '6': 'z', 'x': '2', 'z': '2', '2': '2', 'y': 'start'}) will return ['a', '6', 'z', '2']\n"
   ],
   "id": "15829ad5382c894d"
  },
  {
   "metadata": {
    "ExecuteTime": {
     "end_time": "2024-10-22T12:26:08.935725Z",
     "start_time": "2024-10-22T12:26:08.930431Z"
    }
   },
   "cell_type": "code",
   "source": [
    "def loop(a : dict) -> list:\n",
    "    not_visited_keys = list()\n",
    "    current_value =\"\"\n",
    "    start =0\n",
    "    for key in a:\n",
    "        if key == \"start\":\n",
    "            current_value = a[key]\n",
    "            not_visited_keys.append(current_value)\n",
    "            if start == 1:\n",
    "                return not_visited_keys\n",
    "            else:\n",
    "                start=1\n",
    "        elif key == current_value:\n",
    "            current_value = a[key]\n",
    "            if current_value in not_visited_keys:\n",
    "                return list(not_visited_keys)\n",
    "            not_visited_keys.append(current_value)\n",
    "    return not_visited_keys\n",
    "\n",
    "print(loop({'start': 'a', 'b': 'a', 'a': '6', '6': 'z', 'x': '2', 'z': '2', '2': '2', 'y': 'start'}))\n",
    "            \n",
    "            "
   ],
   "id": "5c47dae0ad0d2fde",
   "outputs": [
    {
     "name": "stdout",
     "output_type": "stream",
     "text": [
      "['a', '6', 'z', '2']\n"
     ]
    }
   ],
   "execution_count": 40
  },
  {
   "metadata": {},
   "cell_type": "markdown",
   "source": [
    "### Exercitiul 11:\n",
    "\n",
    "Write a function that receives a variable number of positional arguments and a variable number of keyword arguments and will return the number of positional arguments whose values can be found among keyword arguments values. \n",
    "\n",
    "**Example:**\n",
    "\n",
    "```python\n",
    "my_function(1, 2, 3, 4, x=1, y=2, z=3, w=5)  # will return 3\n",
    "\n",
    "*args\n",
    "*args allows a function to receive a variable number of positional arguments. The arguments are collected into a tuple.\n",
    "\n",
    "Example:\n",
    "\n",
    "def func(*args):\n",
    "    for arg in args:\n",
    "        print(arg)\n",
    "\n",
    "func(1, 2, 3)  # Output: 1 2 3\n",
    "\n",
    "**kwargs\n",
    "**kwargs allows a function to receive a variable number of keyword arguments. The arguments are collected into a dictionary.  \n",
    "\n",
    "Example:\n",
    "\n",
    "def func(**kwargs):\n",
    "    for key, value in kwargs.items():\n",
    "        print(f\"{key}: {value}\")\n",
    "\n",
    "func(a=1, b=2, c=3)  # Output: a: 1 b: 2 c: 3"
   ],
   "id": "548fca1bd3fbf50c"
  },
  {
   "metadata": {
    "ExecuteTime": {
     "end_time": "2024-10-22T12:34:13.915598Z",
     "start_time": "2024-10-22T12:34:13.911314Z"
    }
   },
   "cell_type": "code",
   "source": [
    "def positional_arguments(*args , **kwargs):\n",
    "    count = 0\n",
    "    for key in kwargs:\n",
    "        value = kwargs[key]\n",
    "        if value in args:\n",
    "            count+=1\n",
    "    return count\n",
    "\n",
    "def positional_arguments2(*args, **kwargs):\n",
    "    return sum([1 for key in kwargs if kwargs[key] in args])        \n",
    "    \n",
    "print(positional_arguments(1,2,3,4,x=1,y=2,z=3,w=5))\n",
    "print(positional_arguments(1,2,3,4,x=1,y=2,z=3,w=5))"
   ],
   "id": "76493b543b7e4c39",
   "outputs": [
    {
     "name": "stdout",
     "output_type": "stream",
     "text": [
      "3\n",
      "3\n"
     ]
    }
   ],
   "execution_count": 43
  }
 ],
 "metadata": {
  "kernelspec": {
   "display_name": "Python 3",
   "language": "python",
   "name": "python3"
  },
  "language_info": {
   "codemirror_mode": {
    "name": "ipython",
    "version": 2
   },
   "file_extension": ".py",
   "mimetype": "text/x-python",
   "name": "python",
   "nbconvert_exporter": "python",
   "pygments_lexer": "ipython2",
   "version": "2.7.6"
  }
 },
 "nbformat": 4,
 "nbformat_minor": 5
}
