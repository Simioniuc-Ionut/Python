{
 "cells": [
  {
   "metadata": {},
   "cell_type": "markdown",
   "source": [
    "Exercitiul 1:\n",
    "Write a function to return a list of the first n numbers in the Fibonacci string.\n",
    "\n",
    "0 1 1 2 3 5 8 ...\n",
    " n = 4 - > str : = { 0 , 1 , 1 , 2}"
   ],
   "id": "9160aa379b117b48"
  },
  {
   "metadata": {
    "ExecuteTime": {
     "end_time": "2024-10-15T14:04:07.882823Z",
     "start_time": "2024-10-15T14:04:07.856500Z"
    }
   },
   "cell_type": "code",
   "source": [
    "\n",
    "def fibonacci(n : int) -> list:\n",
    "    # caz baza \n",
    "    # n == 1 sau 0\n",
    "    fib_list = list()\n",
    "    n1 = 0\n",
    "    n2 = 1\n",
    "    while n != 0:\n",
    "        if n  == 0:\n",
    "            return fib_list    \n",
    "        fib_list.append( n1)\n",
    "        tmp = n2\n",
    "        n2 = n1 + n2\n",
    "        n1 = tmp\n",
    "        n -= 1\n",
    "    return fib_list\n",
    "        \n",
    "print(fibonacci(10))    "
   ],
   "id": "initial_id",
   "outputs": [
    {
     "name": "stdout",
     "output_type": "stream",
     "text": [
      "[0, 1, 1, 2, 3, 5, 8, 13, 21, 34]\n"
     ]
    }
   ],
   "execution_count": 101
  },
  {
   "metadata": {},
   "cell_type": "markdown",
   "source": [
    "Exercitiul:2 \n",
    "\n",
    "Write a function that receives a list of numbers and returns a list of the prime numbers found in it."
   ],
   "id": "2832a4d52d248557"
  },
  {
   "metadata": {
    "ExecuteTime": {
     "end_time": "2024-10-15T14:04:07.914315Z",
     "start_time": "2024-10-15T14:04:07.904438Z"
    }
   },
   "cell_type": "code",
   "source": [
    "def prime_nums(nums : list) -> list:\n",
    "    prime_list = list()\n",
    "    for nr in nums:    \n",
    "       isPrime = [0 for d in range(2,nr) if nr % d == 0]\n",
    "       # print(\"Is prime \" , isPrime)\n",
    "       if len(isPrime) == 0:\n",
    "            prime_list.append(nr)\n",
    "    return prime_list\n",
    "\n",
    "print(prime_nums([2,3,4,5,6]))"
   ],
   "id": "4cb6040fd62e4cce",
   "outputs": [
    {
     "name": "stdout",
     "output_type": "stream",
     "text": [
      "[2, 3, 5]\n"
     ]
    }
   ],
   "execution_count": 102
  },
  {
   "metadata": {},
   "cell_type": "markdown",
   "source": [
    "Exercitiul 3:\n",
    "\n",
    "Write a function that receives as parameters two lists a and b and returns: (a intersected with b, a reunited with b, a - b, b - a)"
   ],
   "id": "7d6dd467847d9ca9"
  },
  {
   "metadata": {
    "ExecuteTime": {
     "end_time": "2024-10-15T14:04:07.941485Z",
     "start_time": "2024-10-15T14:04:07.932864Z"
    }
   },
   "cell_type": "code",
   "source": [
    "def list_operations(a : list, b : list) -> tuple:\n",
    "    return list(set(a) & set(b)), list(set(a) | set(b)), list(set(a) - set(b)), list(set(b) - set(a))\n",
    "\n",
    "print(list_operations([1,2,3,4,5], [3,4,5,6,7]))"
   ],
   "id": "6184a55037da7508",
   "outputs": [
    {
     "name": "stdout",
     "output_type": "stream",
     "text": [
      "([3, 4, 5], [1, 2, 3, 4, 5, 6, 7], [1, 2], [6, 7])\n"
     ]
    }
   ],
   "execution_count": 103
  },
  {
   "metadata": {},
   "cell_type": "markdown",
   "source": "",
   "id": "6f1f9bd71fcc9eeb"
  },
  {
   "metadata": {},
   "cell_type": "markdown",
   "source": [
    "Exercitiul 4:\n",
    "Write a function that receives as a parameters a list of musical notes (strings), a list of moves (integers) and a start position (integer). The function will return the song composed by going through the musical notes beginning with the start position and following the moves given as parameter. Example :\n",
    "compose([\"do\", \"re\", \"mi\", \"fa\", \"sol\"],[1, -3, 4, 2], 2) \n",
    "will return [\"mi\", \"fa\", \"do\", \"sol\", \"re\"]\n"
   ],
   "id": "986ee3c92a6269b2"
  },
  {
   "metadata": {
    "ExecuteTime": {
     "end_time": "2024-10-15T14:04:07.959765Z",
     "start_time": "2024-10-15T14:04:07.950577Z"
    }
   },
   "cell_type": "code",
   "source": [
    "def compose(music_notes : list , moves : list , start_pos : int):\n",
    "    new_list = [music_notes[start_pos]]\n",
    "    current_pos = start_pos\n",
    "    for i in moves:\n",
    "        current_pos = (current_pos + i) % len(music_notes)\n",
    "        new_list.append(music_notes[current_pos])\n",
    "    return new_list\n",
    "    \n",
    "stra = ['a','b','c']\n",
    "# print(stra[-1])\n",
    "print(compose([\"do\", \"re\", \"mi\", \"fa\", \"sol\"],[1, -3, 4, 2 ], 2))\n"
   ],
   "id": "374acc764b5897d4",
   "outputs": [
    {
     "name": "stdout",
     "output_type": "stream",
     "text": [
      "['mi', 'fa', 'do', 'sol', 're']\n"
     ]
    }
   ],
   "execution_count": 104
  },
  {
   "metadata": {},
   "cell_type": "markdown",
   "source": [
    "Exercitiul 5:\n",
    "Write a function that receives as parameter a matrix and will return the matrix obtained by replacing all the elements under the main diagonal with 0 (zero)."
   ],
   "id": "1f4ab9d5d781b566"
  },
  {
   "metadata": {
    "ExecuteTime": {
     "end_time": "2024-10-15T14:04:08.061187Z",
     "start_time": "2024-10-15T14:04:08.051498Z"
    }
   },
   "cell_type": "code",
   "source": [
    "def diagonal_0(matrix : list[list]) -> list[list]:\n",
    "    new_matrix = matrix.copy()\n",
    "    for i in range(0,len(matrix)):\n",
    "        for j in range(0,len(matrix[i])):\n",
    "            if i > j:\n",
    "                new_matrix[i][j]=0\n",
    "    return new_matrix\n",
    "\n",
    "print(diagonal_0([[1,2,3],[4,5,6],[7,8,9]]))\n",
    "print(diagonal_0([[1,2],[3,4]]))\n",
    "\n"
   ],
   "id": "e4ab8e7b1a19cb0b",
   "outputs": [
    {
     "name": "stdout",
     "output_type": "stream",
     "text": [
      "[[1, 2, 3], [0, 5, 6], [0, 0, 9]]\n",
      "[[1, 2], [0, 4]]\n"
     ]
    }
   ],
   "execution_count": 105
  },
  {
   "metadata": {},
   "cell_type": "markdown",
   "source": "",
   "id": "9435e73a08a5af0d"
  },
  {
   "metadata": {},
   "cell_type": "markdown",
   "source": [
    "Exercitiul 6:\n",
    "Write a function that receives as a parameter a variable number of lists and a whole number x. Return a list containing the items that appear exactly x times in the incoming lists. Example: For the [1,2,3], [2,3,4],[4,5,6], [4,1, \"test\"] and x = 2 lists [1,2,3 ] # 1 is in list 1 and 4, 2 is in list 1 and 2, 3 is in lists 1 and 2."
   ],
   "id": "32567ed40d28e317"
  },
  {
   "metadata": {
    "ExecuteTime": {
     "end_time": "2024-10-15T14:04:08.146052Z",
     "start_time": "2024-10-15T14:04:08.137300Z"
    }
   },
   "cell_type": "code",
   "source": [
    "def x_times(x : int , *args) -> list:\n",
    "    dictionary = dict()\n",
    "    for arg in args:\n",
    "        for el in arg:\n",
    "            if el in dictionary:\n",
    "                dictionary[el] += 1\n",
    "            else:\n",
    "                dictionary[el] = 1\n",
    "    print(\"elements \" ,dictionary)\n",
    "    return [key for key , value in dictionary.items() if value == x]\n",
    "\n",
    "print(x_times(2, [1,2,3], [2,3,4],[4,5,6], [4,1, \"test\"]))"
   ],
   "id": "9099892df3f41a4e",
   "outputs": [
    {
     "name": "stdout",
     "output_type": "stream",
     "text": [
      "elements  {1: 2, 2: 2, 3: 2, 4: 3, 5: 1, 6: 1, 'test': 1}\n",
      "[1, 2, 3]\n"
     ]
    }
   ],
   "execution_count": 106
  },
  {
   "metadata": {},
   "cell_type": "markdown",
   "source": [
    "Exercitiul 7 :\n",
    "Write a function that receives as parameter a list of numbers (integers) and will return a tuple with 2 elements. The first element of the tuple will be the number of palindrome numbers found in the list and the second element will be the greatest palindrome number."
   ],
   "id": "abf903f4a06aaeb4"
  },
  {
   "metadata": {
    "ExecuteTime": {
     "end_time": "2024-10-15T14:04:08.256870Z",
     "start_time": "2024-10-15T14:04:08.249074Z"
    }
   },
   "cell_type": "code",
   "source": [
    "def palindromes(nr : list[int]) -> tuple:\n",
    "    list_palindromes =[nr[index] for index in range(0,len(nr)) if nr[index] == int(str(nr[index])[::-1]) ]\n",
    "    print(list_palindromes)\n",
    "    return len(list_palindromes) , max(list_palindromes)\n",
    "\n",
    "print(palindromes([121,1221,123,12321,123321]))"
   ],
   "id": "8d66d4114ad0667a",
   "outputs": [
    {
     "name": "stdout",
     "output_type": "stream",
     "text": [
      "[121, 1221, 12321, 123321]\n",
      "(4, 123321)\n"
     ]
    }
   ],
   "execution_count": 107
  },
  {
   "metadata": {},
   "cell_type": "markdown",
   "source": [
    "Exercitiul 8:\n",
    "\n",
    "Write a function that receives a number x, default value equal to 1, a list of strings, and a boolean flag set to True. For each string, generate a list containing the characters that have the ASCII code divisible by x if the flag is set to True, otherwise it should contain characters that have the ASCII code not divisible by x. Example:\n",
    "x = 2, [\"test\", \"hello\", \"lab002\"], flag = False \n",
    "will return ([\"e\", \"s\"], [\"e\",\"o\"], [\"a\"]) . Note: The function must return list of lists."
   ],
   "id": "7f21131b24edc675"
  },
  {
   "metadata": {
    "ExecuteTime": {
     "end_time": "2024-10-15T14:04:08.303795Z",
     "start_time": "2024-10-15T14:04:08.292305Z"
    }
   },
   "cell_type": "code",
   "source": [
    "def ascii_div(x : int = 1, strings : list[str] = [], flag : bool = True) -> list[list]:\n",
    "    result = list()\n",
    "    for word in strings:\n",
    "        chr = list(word)\n",
    "        result_chr = list()\n",
    "        for c in chr:\n",
    "            ascii_c = ord(c) # convert to ascii\n",
    "            print(\"asccii \" , c , \" \", ascii_c)\n",
    "            if flag and ascii_c % x == 0:\n",
    "                result_chr.append(c)\n",
    "            elif not flag and ascii_c % x != 0:\n",
    "                result_chr.append(c)   \n",
    "        result.append(result_chr)        \n",
    "    return result\n",
    "\n",
    "print(ascii_div(2, [\"test\", \"hello\", \"lab002\"], False))"
   ],
   "id": "97c6317f3bcc80cc",
   "outputs": [
    {
     "name": "stdout",
     "output_type": "stream",
     "text": [
      "asccii  t   116\n",
      "asccii  e   101\n",
      "asccii  s   115\n",
      "asccii  t   116\n",
      "asccii  h   104\n",
      "asccii  e   101\n",
      "asccii  l   108\n",
      "asccii  l   108\n",
      "asccii  o   111\n",
      "asccii  l   108\n",
      "asccii  a   97\n",
      "asccii  b   98\n",
      "asccii  0   48\n",
      "asccii  0   48\n",
      "asccii  2   50\n",
      "[['e', 's'], ['e', 'o'], ['a']]\n"
     ]
    }
   ],
   "execution_count": 108
  },
  {
   "metadata": {},
   "cell_type": "markdown",
   "source": [
    "Exercitiul 9:\n",
    "\n",
    "Write a function that receives as paramer a matrix which represents the heights of the spectators in a stadium and will return a list of tuples (line, column) each one representing a seat of a spectator which can't see the game. A spectator can't see the game if there is at least one taller spectator standing in front of him. All the seats are occupied. All the seats are at the same level. Row and column indexing starts from 0, beginning with the closest row from the field. Example:\n",
    "# FIELD\n",
    "[[1, 2, 3, 2, 1, 1],\n",
    " [2, 4, 4, 3, 7, 2],\n",
    " [5, 5, 2, 5, 6, 4],\n",
    " [6, 6, 7, 6, 7, 5]] \n",
    "Will return : [(2, 2), (3, 4), (2, 4)]"
   ],
   "id": "352ea05ba3ca81ce"
  },
  {
   "metadata": {
    "ExecuteTime": {
     "end_time": "2024-10-15T14:04:08.396202Z",
     "start_time": "2024-10-15T14:04:08.384605Z"
    }
   },
   "cell_type": "code",
   "source": [
    "def spectators(matrix: list[list]) -> list[tuple]:\n",
    "    result = []\n",
    "    for i in range(len(matrix) - 1, 0, -1):\n",
    "        for j in range(len(matrix[0])):\n",
    "            current = matrix[i][j]\n",
    "            for k in range(i): # iterez prin fata randurilor randului curent i\n",
    "                if matrix[k][j] >= current:\n",
    "                    result.append((i, j))\n",
    "                    break\n",
    "    return result\n",
    "\n",
    "print(spectators([\n",
    "    [1, 2, 3, 2, 1, 1],\n",
    "    [2, 4, 4, 3, 7, 2],\n",
    "    [5, 5, 2, 5, 6, 4],\n",
    "    [6, 6, 7, 6, 7, 5]\n",
    "]))\n"
   ],
   "id": "dd611acfa4657204",
   "outputs": [
    {
     "name": "stdout",
     "output_type": "stream",
     "text": [
      "[(3, 4), (2, 2), (2, 4)]\n"
     ]
    }
   ],
   "execution_count": 109
  },
  {
   "metadata": {},
   "cell_type": "markdown",
   "source": [
    "Exercitiul 10:\n",
    "Write a function that receives a variable number of lists and returns a list of tuples as follows: the first tuple contains the first items in the lists, the second element contains the items on the position 2 in the lists, etc. Example: for lists [1,2,3], [5,6,7], [\"a\", \"b\", \"c\"] return: [(1, 5, \"a \") ,(2, 6, \"b\"), (3,7, \"c\")]. Note: If input lists do not have the same number of items, missing items will be replaced with None to be able to generate max ([len(x) for x in input_lists]) tuples."
   ],
   "id": "c4d3df50482a5885"
  },
  {
   "metadata": {
    "ExecuteTime": {
     "end_time": "2024-10-15T14:04:08.455234Z",
     "start_time": "2024-10-15T14:04:08.448037Z"
    }
   },
   "cell_type": "code",
   "source": [
    "def list_tuples(*args) -> list[tuple]:\n",
    "    max_len = max([len(x) for x in args])\n",
    "    result = []\n",
    "    for i in range(max_len):\n",
    "        result.append(tuple([x[i] if i < len(x) else None for x in args]))\n",
    "    return result\n",
    "\n",
    "print(list_tuples([1,2,3], [5,6,7], [\"a\", \"b\", \"c\"]))"
   ],
   "id": "496168e709d4551d",
   "outputs": [
    {
     "name": "stdout",
     "output_type": "stream",
     "text": [
      "[(1, 5, 'a'), (2, 6, 'b'), (3, 7, 'c')]\n"
     ]
    }
   ],
   "execution_count": 110
  },
  {
   "metadata": {},
   "cell_type": "markdown",
   "source": [
    "Exercitiul 11:\n",
    "Write a function that will order a list of string tuples based on the 3rd character of the 2nd element in the tuple. Example:\n",
    "('abc', 'bcd'), ('abc', 'zza')] ==> [('abc', 'zza'), ('abc', 'bcd')]"
   ],
   "id": "68014e4dc0cdc1c1"
  },
  {
   "metadata": {
    "ExecuteTime": {
     "end_time": "2024-10-15T14:04:08.545958Z",
     "start_time": "2024-10-15T14:04:08.540745Z"
    }
   },
   "cell_type": "code",
   "source": [
    "def sort_tuples(tuples: list[tuple]) -> list[tuple]:\n",
    "    return sorted(tuples, key = lambda x: x[1][2])"
   ],
   "id": "a9ca92756ef7cb60",
   "outputs": [],
   "execution_count": 111
  },
  {
   "metadata": {},
   "cell_type": "markdown",
   "source": [
    "Exercitiul 12:\n",
    "Write a function that will receive a list of words as parameter and will return a list of lists of words, grouped by rhyme. Two words rhyme if both of them end with the same 2 letters. Example: group_by_rhyme(['ana', 'banana', 'carte', 'arme', 'parte']) will return [['ana', 'banana'], ['carte', 'parte'], ['arme']]\n"
   ],
   "id": "28d4c22aa9266e6f"
  },
  {
   "metadata": {
    "ExecuteTime": {
     "end_time": "2024-10-15T14:04:08.621544Z",
     "start_time": "2024-10-15T14:04:08.610789Z"
    }
   },
   "cell_type": "code",
   "source": [
    "'''\n",
    "    Group words by their last two letters\n",
    "    -For each word, get the last two letters\n",
    "    -If the key is not in the dictionary, add it with an empty list\n",
    "    -Append the word to the list of words with the same key\n",
    "    -Convert the dictionary values to a list of lists\n",
    "'''\n",
    "def rhyme_func(list_words):\n",
    "    rhyme_groups = {}\n",
    "\n",
    "    # Group words by their last two letters\n",
    "    for word in list_words:\n",
    "        key = word[-2:]\n",
    "        if key not in rhyme_groups:\n",
    "            rhyme_groups[key] = []\n",
    "        rhyme_groups[key].append(word)\n",
    "\n",
    "    # Convert groups to a list of lists, include groups with only one word as well\n",
    "    result_rhymes = [group for group in rhyme_groups.values()]\n",
    "\n",
    "    return result_rhymes\n",
    "\n",
    "\n",
    "# Test\n",
    "string_words = ['ana', 'banana', 'carte', 'arme', 'parte']\n",
    "print(rhyme_func(string_words))"
   ],
   "id": "256eb276f3ce0c79",
   "outputs": [
    {
     "name": "stdout",
     "output_type": "stream",
     "text": [
      "[['ana', 'banana'], ['carte', 'parte'], ['arme']]\n"
     ]
    }
   ],
   "execution_count": 112
  }
 ],
 "metadata": {
  "kernelspec": {
   "display_name": "Python 3",
   "language": "python",
   "name": "python3"
  },
  "language_info": {
   "codemirror_mode": {
    "name": "ipython",
    "version": 2
   },
   "file_extension": ".py",
   "mimetype": "text/x-python",
   "name": "python",
   "nbconvert_exporter": "python",
   "pygments_lexer": "ipython2",
   "version": "2.7.6"
  }
 },
 "nbformat": 4,
 "nbformat_minor": 5
}
