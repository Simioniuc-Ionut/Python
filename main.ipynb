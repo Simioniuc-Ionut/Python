{
 "cells": [
  {
   "metadata": {},
   "cell_type": "markdown",
   "source": [
    "Exercitiul 1:\n",
    "\n",
    "Create a Python script that does the following:\n",
    " -Takes a directory path and a file extension as command line arguments (use sys.argv).\n",
    " -Searches for all files with the given extension in the specified directory (use os module).\n",
    " -For each file found, read its contents and print them.\n",
    " -Implement exception handling for invalid directory paths, incorrect file extensions, and file access errors."
   ],
   "id": "a4302c16ce1db74d"
  },
  {
   "metadata": {
    "collapsed": true
   },
   "cell_type": "code",
   "source": [
    "import sys as sys\n",
    "import os as os\n",
    "\n",
    "import sys\n",
    "import os\n",
    "\n",
    "from IPython.testing.tools import full_path\n",
    "\n",
    "\n",
    "def py_script():\n",
    "    dir_path = sys.argv[1]\n",
    "    if not dir_path:\n",
    "        print(\"Directory path is missing\")\n",
    "        return\n",
    "    if not os.path.isdir(dir_path):\n",
    "        print(\"Invalid directory path\")\n",
    "        return\n",
    "\n",
    "    file_extension = sys.argv[2]\n",
    "    if not file_extension.startswith(\".\"):\n",
    "        print(\"Invalid file extension\")\n",
    "        return\n",
    "\n",
    "    for file in os.listdir(dir_path):\n",
    "        if file.endswith(file_extension):\n",
    "            try:\n",
    "                with open(os.path.join(dir_path, file), 'r') as f:\n",
    "                    print(f.read())\n",
    "            except FileNotFoundError:\n",
    "                print(\"File not found\")\n",
    "            except Exception as e:\n",
    "                print(\"Generic error\",e)\n",
    "                break\n",
    "\n",
    "\n",
    "\n",
    "# py_script() C:\\Users\\Asus\\Documents\\Facultate\\Anul3\\Sem1\\Python\\test1 .txt\n"
   ],
   "id": "initial_id",
   "outputs": [],
   "execution_count": null
  },
  {
   "metadata": {},
   "cell_type": "code",
   "source": "%run main.ipynb C:\\Users\\Asus\\Documents\\Facultate\\Anul3\\Sem1\\Python\\test1 .txt",
   "id": "759f8a0f4e90b30c",
   "outputs": [],
   "execution_count": null
  },
  {
   "metadata": {},
   "cell_type": "markdown",
   "source": [
    "Exercitiul 2:\n",
    "\n",
    "Write a script using the os module that renames all files in a specified directory to have a sequential number prefix. For example, file1.txt, file2.txt, etc. Include error handling for cases like the directory not existing or files that can't be renamed."
   ],
   "id": "5ee667d1b56f38ed"
  },
  {
   "metadata": {},
   "cell_type": "code",
   "outputs": [],
   "execution_count": null,
   "source": [
    "\n",
    "\n",
    "def py_script2():\n",
    "    dir_path = sys.argv[1]\n",
    "    if not os.path.isdir(dir_path):\n",
    "        print(\"Invalid path\")\n",
    "        return \n",
    "    count_file = 1\n",
    "    for file in os.listdir(dir_path):\n",
    "        try:\n",
    "            file_path= os.path.join(dir_path,file)\n",
    "            with open(file_path, 'r') as f:\n",
    "                new_name = f\"{f.name[:f.name.find['.']]}_{count_file}{f.name[f.name.find['.']:]}\"\n",
    "                new_path_file = os.path.join(dir_path,new_name)\n",
    "                os.rename(new_path_file,new_name)\n",
    "                count_file+=1\n",
    "        except FileNotFoundError:\n",
    "            print(\"File not found\")\n",
    "        except Exception as e:\n",
    "            print(\"Generic error \",str(e))\n"
   ],
   "id": "5e8c80b8c1cf2054"
  },
  {
   "metadata": {},
   "cell_type": "markdown",
   "source": [
    "Exercitiul: 3\n",
    "\n",
    "Create a Python script that calculates the total size of all files in a directory provided as a command line argument. The script should:\n",
    "\n",
    "Use the sys module to read the directory path from the command line.\n",
    "Utilize the os module to iterate through all the files in the given directory and its subdirectories.\n",
    "Sum up the sizes of all files and display the total size in bytes.\n",
    "Implement exception handling for cases like the directory not existing, permission errors, or other file access issues."
   ],
   "id": "3846cfee5ff81cbb"
  },
  {
   "metadata": {
    "ExecuteTime": {
     "end_time": "2024-11-12T13:18:38.914045Z",
     "start_time": "2024-11-12T13:18:38.907771Z"
    }
   },
   "cell_type": "code",
   "source": [
    "import os\n",
    "import sys\n",
    "\n",
    "import os\n",
    "import sys\n",
    "\n",
    "def py_script3():\n",
    "    dir_path = sys.argv[1]\n",
    "    if not os.path.isdir(dir_path):\n",
    "        print(\"Invalid path\")\n",
    "        return\n",
    "    total_size = 0\n",
    "    for directory, directories, files in os.walk(dir_path):\n",
    "        for file in files:\n",
    "            full_path = os.path.join(directory, file)\n",
    "            try:\n",
    "                with open(full_path, 'r') as f:\n",
    "                    data = f.read()\n",
    "                    total_size += len(data)\n",
    "            except Exception as e:\n",
    "                print(\"Generic exp\", str(e))\n",
    "\n",
    "    print(f\"Total bytes is: {total_size}\")\n",
    "\n",
    "py_script3()\n",
    "    \n",
    "    "
   ],
   "id": "83bde9d879795b54",
   "outputs": [
    {
     "ename": "SyntaxError",
     "evalue": "invalid syntax (2324086390.py, line 9)",
     "output_type": "error",
     "traceback": [
      "\u001B[1;36m  Cell \u001B[1;32mIn[1], line 9\u001B[1;36m\u001B[0m\n\u001B[1;33m    total_size +=\u001B[0m\n\u001B[1;37m                  ^\u001B[0m\n\u001B[1;31mSyntaxError\u001B[0m\u001B[1;31m:\u001B[0m invalid syntax\n"
     ]
    }
   ],
   "execution_count": 1
  },
  {
   "metadata": {},
   "cell_type": "code",
   "outputs": [],
   "execution_count": null,
   "source": "",
   "id": "bd6c9bbd96fe36f"
  }
 ],
 "metadata": {
  "kernelspec": {
   "display_name": "Python 3",
   "language": "python",
   "name": "python3"
  },
  "language_info": {
   "codemirror_mode": {
    "name": "ipython",
    "version": 2
   },
   "file_extension": ".py",
   "mimetype": "text/x-python",
   "name": "python",
   "nbconvert_exporter": "python",
   "pygments_lexer": "ipython2",
   "version": "2.7.6"
  }
 },
 "nbformat": 4,
 "nbformat_minor": 5
}
