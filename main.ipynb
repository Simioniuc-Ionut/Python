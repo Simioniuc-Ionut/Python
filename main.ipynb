{
 "cells": [
  {
   "metadata": {},
   "cell_type": "markdown",
   "source": [
    "### Exercitiul1:\n",
    "\n",
    "Create a class hierarchy for shapes, starting with a base class Shape. Then, create subclasses like Circle, Rectangle, and Triangle. Implement methods to calculate area and perimeter for each shape.\n",
    "\n",
    "Create a class hierarchy for shapes, starting with a base class Shape. Then, create subclasses like Circle, Rectangle, and Triangle. Implement methods to calculate area and perimeter for each shape.\n",
    "\n"
   ],
   "id": "5280dc38c045000b"
  },
  {
   "metadata": {
    "ExecuteTime": {
     "end_time": "2024-11-05T13:01:25.551750Z",
     "start_time": "2024-11-05T13:01:25.528052Z"
    }
   },
   "cell_type": "code",
   "source": [
    "import math\n",
    "\n",
    "class Shape:\n",
    "    def area(self): pass\n",
    "    def perimeter(self):pass\n",
    "    \n",
    "class Circle(Shape):\n",
    "    def __init__(self,r):\n",
    "        self.r=r\n",
    "    def area(self):\n",
    "        return self.r* self.r * math.pi\n",
    "    def perimeter(self):\n",
    "        return 2 * math.pi * self.r\n",
    "    \n",
    "class Rectangle(Shape):\n",
    "    def __init__(self,l , L):\n",
    "        self.l=l\n",
    "        self.L=L     \n",
    "    def area(self):\n",
    "        return self.l * self.L\n",
    "    def perimeter(self):\n",
    "        return 2 * self.l + 2 * self.L\n",
    "class Triangle(Shape):\n",
    "     def __init__(self,l1,l2,l3):\n",
    "        self.l1=l1\n",
    "        self.l2=l2\n",
    "        self.l3=l3 \n",
    "     def area(self):\n",
    "        l1=self.l1\n",
    "        l2=self.l2\n",
    "        l3=self.l3\n",
    "        s = (l1 + l2 + l3) / 2\n",
    "        return math.sqrt(s * (s - l1) * (s - l2) * (s - l3))\n",
    "     def perimeter(self):\n",
    "         return self.l1+self.l2+self.l3\n",
    "\n",
    "# test\n",
    "c = Circle(5)\n",
    "print(c.area())\n",
    "print(c.perimeter())\n",
    "r = Rectangle(5, 10)\n",
    "print(r.area())\n",
    "print(r.perimeter())\n",
    "t = Triangle(3, 4, 5)\n",
    "print(t.area())\n",
    "print(t.perimeter())"
   ],
   "id": "78d526e4f36f297",
   "outputs": [
    {
     "name": "stdout",
     "output_type": "stream",
     "text": [
      "78.53981633974483\n",
      "31.41592653589793\n",
      "50\n",
      "30\n",
      "6.0\n",
      "12\n"
     ]
    }
   ],
   "execution_count": 1
  },
  {
   "metadata": {},
   "cell_type": "markdown",
   "source": [
    "### Exercitiul2:\n",
    "\n",
    "Design a bank account system with a base class Account and subclasses SavingsAccount and CheckingAccount. Implement methods for deposit, withdrawal, and interest calculation."
   ],
   "id": "ebea3f28655794b3"
  },
  {
   "metadata": {
    "ExecuteTime": {
     "end_time": "2024-11-05T15:07:02.760011Z",
     "start_time": "2024-11-05T15:07:02.744860Z"
    }
   },
   "cell_type": "code",
   "source": [
    "class BankAccount:\n",
    "    def __init__(self, balance=0):\n",
    "        self.balance = balance\n",
    "    def deposit(self,value):\n",
    "        self.balance+=value\n",
    "    def withdrawal(self,value):\n",
    "        if self.balance >= value:\n",
    "            self.balance-=value\n",
    "            return value\n",
    "        else:\n",
    "            print(\"Not enough money\")\n",
    "    def get_balance(self):\n",
    "        return self.balance\n",
    "               \n",
    "class CheckingAccount(BankAccount):\n",
    "   def __init__(self,balance=0):\n",
    "       super().__init__(balance)\n",
    "       \n",
    "class SavingsAccount(BankAccount):\n",
    "   def __init__(self,balance=0):\n",
    "        super().__init__(balance)\n",
    "        self.interest_rate=0.02\n",
    "   def interest_calculation(self,months):\n",
    "        if months > 1:\n",
    "            current_balance=self.balance\n",
    "            for i in range(months):\n",
    "                commision = current_balance * self.interest_rate\n",
    "                current_balance += commision\n",
    "            return current_balance    \n",
    "        else:\n",
    "            print(\"Not a valid month\")\n",
    "            \n",
    "# Test\n",
    "account = SavingsAccount(1000)\n",
    "account.deposit(1000)\n",
    "print(account.get_balance())\n",
    "print(account.withdrawal(500))\n",
    "print(account.get_balance())\n",
    "print(account.interest_calculation(3))"
   ],
   "id": "e02e063d932a24ec",
   "outputs": [
    {
     "name": "stdout",
     "output_type": "stream",
     "text": [
      "2000\n",
      "500\n",
      "1500\n",
      "1591.812\n"
     ]
    }
   ],
   "execution_count": 30
  },
  {
   "metadata": {},
   "cell_type": "markdown",
   "source": [
    "### Exercitiul3:\n",
    "\n",
    "Create a base class Vehicle with attributes like make, model, and year, and then create subclasses for specific types of vehicles like Car, Motorcycle, and Truck. Add methods to calculate mileage or towing capacity based on the vehicle type."
   ],
   "id": "6754ed071f5e80c3"
  },
  {
   "metadata": {
    "ExecuteTime": {
     "end_time": "2024-11-05T13:26:09.021300Z",
     "start_time": "2024-11-05T13:26:09.008027Z"
    }
   },
   "cell_type": "code",
   "source": [
    "class Vehicle:\n",
    "    def __init__(self,make,model,year):\n",
    "        self.make=make\n",
    "        self.model=model\n",
    "        self.year=year\n",
    "\n",
    "class Car(Vehicle):\n",
    "    def __init__(self,make,model,year,mileage):\n",
    "        super().__init__(make,model,year)\n",
    "        self.mileage=mileage\n",
    "    def towing(self):\n",
    "        if self.model == \"suv\":\n",
    "            return True\n",
    "        else:\n",
    "            return False\n",
    "    def get_mileage(self):\n",
    "        return self.mileage\n",
    "class Motorcycle(Vehicle):\n",
    "    def __init__(self,make,model,year,mileage):\n",
    "        super().__init__(make,model,year)\n",
    "        self.mileage=mileage\n",
    "    def towing(self):\n",
    "        return False\n",
    "    def get_mileage(self):\n",
    "        return self.mileage\n",
    "class Truck(Vehicle):\n",
    "    def __init__(self,make,model,year,mileage):\n",
    "        super().__init__(make,model,year)\n",
    "        self.mileage=mileage\n",
    "    def towing(self):\n",
    "        return True\n",
    "    def get_mileage(self):\n",
    "        return self.mileage\n",
    "\n",
    "# Test\n",
    "car = Car(\"BMW\",\"suv\",2021,100)\n",
    "print(car.towing())\n",
    "print(car.get_mileage())\n",
    "motorcycle = Motorcycle(\"Honda\",\"motorcycle\",2021,100)\n",
    "print(motorcycle.towing())\n",
    "print(motorcycle.get_mileage())\n",
    "truck = Truck(\"Volvo\",\"truck\",2021,100)\n",
    "print(truck.towing())\n",
    "print(truck.get_mileage())\n",
    "\n",
    "    "
   ],
   "id": "cd0a628d5179aafb",
   "outputs": [
    {
     "name": "stdout",
     "output_type": "stream",
     "text": [
      "True\n",
      "100\n",
      "False\n",
      "100\n",
      "True\n",
      "100\n"
     ]
    }
   ],
   "execution_count": 5
  },
  {
   "metadata": {},
   "cell_type": "markdown",
   "source": [
    "### Exercitiul4:\n",
    "\n",
    "Build an employee hierarchy with a base class Employee. Create subclasses for different types of employees like Manager, Engineer, and Salesperson. Each subclass should have attributes like salary and methods related to their roles."
   ],
   "id": "ea3ac3d70ac78537"
  },
  {
   "metadata": {
    "ExecuteTime": {
     "end_time": "2024-11-05T13:38:44.738520Z",
     "start_time": "2024-11-05T13:38:44.725690Z"
    }
   },
   "cell_type": "code",
   "source": [
    "class Employee:\n",
    "    def __init__(self,company_name,salary,name,age):\n",
    "        self.company_name=company_name\n",
    "        self.name=name\n",
    "        self.age=age\n",
    "        self.salary=salary\n",
    "    def get_company_name(self):\n",
    "        return self.company_name\n",
    "    def __get_salary(self):\n",
    "        return self.salary\n",
    "    def profile(self):\n",
    "        return str(f\"{self.name} with age: {self.age} and salary : {self.__get_salary()}\")\n",
    "    \n",
    "class Manager(Employee):\n",
    "    def __init__(self,company_name,salary,list_with_employees : list[Employee],name,age):\n",
    "        super().__init__(company_name,salary,name,age)\n",
    "        self.list_with_employees=list_with_employees\n",
    "    def get_role(self):\n",
    "        return \"Manager\"\n",
    "    def get_list_with_employees(self):\n",
    "        for i in self.list_with_employees:\n",
    "            print(i.get_role() , \" \" , i.profile() , \" at company \" , i.get_company_name())\n",
    "class Engineer(Employee):\n",
    "    def __init__(self,company_name,salary,name,age):\n",
    "        super().__init__(company_name,salary,name,age)\n",
    "        self.salary=salary\n",
    "    def get_salary(self):\n",
    "        return self.salary\n",
    "    def get_role(self):\n",
    "        return \"Engineer\"\n",
    "    \n",
    "class Salesperson(Employee):\n",
    "    def __init__(self,company_name,salary,name,age):\n",
    "        super().__init__(company_name,salary,name,age)\n",
    "        self.salary=salary\n",
    "    def get_salary(self):\n",
    "        return self.salary\n",
    "    def get_role(self):\n",
    "        return \"Salesperson\"\n",
    "        \n",
    "\n",
    "# Test\n",
    "employee1 = Engineer(\"Google\",1000,\"Ion\",30)\n",
    "employee2 = Salesperson(\"Google\",1000,\"Vasile\",30)\n",
    "employee3 = Engineer(\"Google\",1000,\"Mihai\",30)\n",
    "employee4 = Salesperson(\"Google\",1000,\"George\",30)\n",
    "employee5 = Engineer(\"Google\",1000,\"Andrei\",30)\n",
    "employee6 = Salesperson(\"Google\",1000,\"Alex\",30)\n",
    "employee7 = Engineer(\"Google\",1000,\"Marius\",30)\n",
    "list_with_employee = [employee1,employee2,employee3,employee4,employee5,employee6,employee7]\n",
    "manager = Manager(\"Google\",1000,list_with_employee,\"Andrei\",30)\n",
    "print(manager.profile())\n",
    "manager.get_list_with_employees()\n"
   ],
   "id": "4c7e17b128c142a0",
   "outputs": [
    {
     "name": "stdout",
     "output_type": "stream",
     "text": [
      "Andrei with age: 30 and salary : 1000\n",
      "Engineer   Ion with age: 30 and salary : 1000  at company  Google\n",
      "Salesperson   Vasile with age: 30 and salary : 1000  at company  Google\n",
      "Engineer   Mihai with age: 30 and salary : 1000  at company  Google\n",
      "Salesperson   George with age: 30 and salary : 1000  at company  Google\n",
      "Engineer   Andrei with age: 30 and salary : 1000  at company  Google\n",
      "Salesperson   Alex with age: 30 and salary : 1000  at company  Google\n",
      "Engineer   Marius with age: 30 and salary : 1000  at company  Google\n"
     ]
    }
   ],
   "execution_count": 8
  },
  {
   "metadata": {},
   "cell_type": "markdown",
   "source": [
    "### Exercitiul5:\n",
    "\n",
    "Create a class hierarchy for animals, starting with a base class Animal. Then, create subclasses like Mammal, Bird, and Fish. Add properties and methods to represent characteristics unique to each animal group."
   ],
   "id": "c89c1d5693c98306"
  },
  {
   "metadata": {
    "ExecuteTime": {
     "end_time": "2024-11-05T14:15:54.986824Z",
     "start_time": "2024-11-05T14:15:54.974456Z"
    }
   },
   "cell_type": "code",
   "source": [
    "class Animal:\n",
    "    def __init__(self,animal_type,sound,movement):\n",
    "        self.animal_type=animal_type\n",
    "        self.sound=sound\n",
    "        self.movement=movement\n",
    "    def get_properties(self):\n",
    "        return f\"The animal: {str(self.animal_type)[0].upper() + str(self.animal_type[1:])} sound is:{self.sound} and movement is:{self.movement}\"\n",
    "class Mammal(Animal):\n",
    "    def __init__(self,animal_type,sound,movement,legs):\n",
    "        super().__init__(animal_type,sound,movement)\n",
    "        self.legs=legs\n",
    "    def get_properties(self):\n",
    "        return super().get_properties() + f\" and legs are:{self.legs}\" \n",
    "class Bird(Animal):\n",
    "    def __init__(self,animal_type,sound,movement,wings):\n",
    "        super().__init__(animal_type,sound,movement)\n",
    "        self.wings=wings\n",
    "    def get_properties(self):\n",
    "        return super().get_properties() + f\" and wings are:{self.wings}\" \n",
    "class Fish(Animal):\n",
    "    def __init__(self,animal_type,sound,movement,fins):\n",
    "        super().__init__(animal_type,sound,movement)\n",
    "        self.fins=fins\n",
    "    def get_properties(self):\n",
    "        return super().get_properties() + f\" and swims are:{self.fins}\" \n",
    "# test\n",
    "mammal = Mammal(\"dog\",\"ham ham\",\"walk\",4)\n",
    "print(mammal.get_properties())\n",
    "bird = Bird(\"bird\",\" cra cra \",\"fly\",2)\n",
    "print(bird.get_properties())\n",
    "print(\"Fish :\")\n",
    "fish = Fish(\"fish\",\" blop blop\",\"swim\",2)\n",
    "print(fish.get_properties())\n",
    "\n"
   ],
   "id": "76789ebbad751028",
   "outputs": [
    {
     "name": "stdout",
     "output_type": "stream",
     "text": [
      "The animal: Dog sound is:ham ham and movement is:walk and legs are:4\n",
      "The animal: Bird sound is: cra cra  and movement is:fly and wings are:2\n",
      "Fish :\n",
      "The animal: Fish sound is: blop blop and movement is:swim and swims are:2\n"
     ]
    }
   ],
   "execution_count": 15
  },
  {
   "metadata": {},
   "cell_type": "markdown",
   "source": [
    "### Exercitiul6:\n",
    "\n",
    "Design a library catalog system with a base class LibraryItem and subclasses for different types of items like Book, DVD, and Magazine. Include methods to check out, return, and display information about each item."
   ],
   "id": "8472685e66e826f0"
  },
  {
   "metadata": {
    "ExecuteTime": {
     "end_time": "2024-11-05T15:03:25.193603Z",
     "start_time": "2024-11-05T15:03:25.166963Z"
    }
   },
   "cell_type": "code",
   "source": [
    "class Library:\n",
    "    def __init__(self,type_of,author,title,year,gen):\n",
    "        self.type_of=type_of\n",
    "        self.author=author\n",
    "        self.title=title\n",
    "        self.year=year\n",
    "        self.gen=gen\n",
    "    def get_info(self):\n",
    "        return f\"{self.type_of} with author: {self.author} , Title: {self.title} , Year: {self.year} Gen: {self.gen}\"\n",
    "    def get_type(self):\n",
    "        return self.type_of\n",
    "class LibraryItem:\n",
    "    def __init__(self,library_name,items: list):\n",
    "        self.library_name=library_name\n",
    "        self.items_available={item:False for item in items}\n",
    "    def __str__(self):\n",
    "        return str(self.library_name)\n",
    "    \n",
    "    def check_out(self, author, title):\n",
    "        for item in self.items_available:\n",
    "            if item.get_author() == author and item.get_title() == title:\n",
    "                if self.items_available[item]:\n",
    "                    return \"Item not available\"\n",
    "                else:\n",
    "                    self.items_available[item] = True\n",
    "                    return \"Item checked out\"\n",
    "        return \"Item not found\"\n",
    "    \n",
    "    def return_item(self, author, title):\n",
    "        for item in self.items_available:\n",
    "            if item.get_author() == author and item.get_title() == title:\n",
    "                if not self.items_available[item]:\n",
    "                    return \"Item already returned\"\n",
    "                else:\n",
    "                    self.items_available[item] = False\n",
    "                    return \"Item returned\"\n",
    "        return \"Item not found\"\n",
    "    \n",
    "    def display_info(self):\n",
    "        for item, checked_out in self.items_available.items():\n",
    "            if not checked_out:\n",
    "                print(\"Item:\", item.get_type(), \"have informations:\", item.get_info())\n",
    "            \n",
    "class Book(Library):\n",
    "    def __init__(self,author,title,gen,year,volume):\n",
    "        super().__init__(\"Book\",author,title,year,gen)\n",
    "        self.volume=volume\n",
    "    def get_title(self):\n",
    "        return self.title\n",
    "    def get_author(self):\n",
    "        return self.author\n",
    "    def get_info(self):\n",
    "        return super().get_info() + f\" Volume: {self.volume}\"\n",
    "    \n",
    "        \n",
    "class DVD(Library):\n",
    "     def __init__(self,author,title,duration,gen,age_restriction,year):\n",
    "        super().__init__(\"Film\",author,title,year,gen)\n",
    "        self.duration=duration\n",
    "        self.age_restriction=age_restriction\n",
    "        \n",
    "     def get_title(self):\n",
    "        return self.title\n",
    "     def get_author(self):\n",
    "        return self.author\n",
    "     def get_info(self):\n",
    "        return super().get_info() + f\" Duration: {self.duration} Age restriction: {self.age_restriction}\"\n",
    "class Magazine(Library):\n",
    "    def __init__(self,author,title,gen,year,color,nr,volume,collection):\n",
    "        super().__init__(\"Magazine\",author,title,year,gen)\n",
    "        self.volume=volume\n",
    "        self.color=color\n",
    "        self.nr=nr\n",
    "        self.collection=collection\n",
    "    def get_title(self):\n",
    "        return self.title\n",
    "    def get_author(self):\n",
    "        return self.author\n",
    "    def get_info(self):\n",
    "        return super().get_info() + f\" Volume: {self.volume} Nr: {self.nr} Color: {self.color} Collection: {self.collection}\"\n",
    "\n",
    "# Test\n",
    "\n",
    "book1 = Book(\"Ion\",\"Baltagul\",\"Crima,Mister\",2021,1)\n",
    "book2 = Book(\"Arghezi\",\"Testament\",\"Liric\",2021,2)\n",
    "book3 = Book(\"Caragiale\",\"O scrisoare Pierduta\",\"Comedie\",2021,3)\n",
    "film1 = DVD(\"Cristopher Nolan\",\"Titanic\",120,\"Drama,Romance\",18,1997)\n",
    "film2 = DVD(\"Jack\",\"Avatar\",150,\"Aventura\",18,2009)\n",
    "film3 = DVD(\"Cristopher Nolan\",\"Inception\",180,\"Drama\",18,2010)\n",
    "magazine1 = Magazine(\"Jack\", \"Naruto\",\"Anime\",2021,\"color\",1,1,\"Manga\")\n",
    "magazine2 = Magazine(\"Dove\", \"One Piece\",\"Anime\",2021,\"color\",2,1,\"Manga\")\n",
    "magazine3 = Magazine(\"Franco\", \"Bleach\",\"Anime\",2021,\"color\",3,1,\"Manga\")\n",
    "\n",
    "items = [book1,book2,book3,film1,film2,film3,magazine1,magazine2,magazine3]\n",
    "library = LibraryItem(\"Biblioteca Mihai Eminescu\", items)\n",
    "\n",
    "print(\"Library: \",library)\n",
    "\n",
    "print(\"______Before check______\")\n",
    "library.display_info()\n",
    "library.check_out(\"Ion\",\"Baltagul\")\n",
    "library.check_out(\"Arghezi\",\"Testament\")\n",
    "library.check_out(\"Caragiale\",\"O scrisoare Pierduta\")\n",
    "print(\"______After check______\")\n",
    "library.display_info()\n",
    "library.return_item(\"Ion\",\"Baltagul\")\n",
    "library.return_item(\"Arghezi\",\"Testament\")\n",
    "library.return_item(\"Caragiale\",\"O scrisoare Pierduta\")\n",
    "print(\"______After return______\")\n",
    "library.display_info()\n",
    "\n"
   ],
   "id": "4ae7e883336df9ab",
   "outputs": [
    {
     "name": "stdout",
     "output_type": "stream",
     "text": [
      "Library:  Biblioteca Mihai Eminescu\n",
      "______Before check______\n",
      "Item: Book have informations: Book with author: Ion , Title: Baltagul , Year: 2021 Gen: Crima,Mister Volume: 1\n",
      "Item: Book have informations: Book with author: Arghezi , Title: Testament , Year: 2021 Gen: Liric Volume: 2\n",
      "Item: Book have informations: Book with author: Caragiale , Title: O scrisoare Pierduta , Year: 2021 Gen: Comedie Volume: 3\n",
      "Item: Film have informations: Film with author: Cristopher Nolan , Title: Titanic , Year: 1997 Gen: Drama,Romance Duration: 120 Age restriction: 18\n",
      "Item: Film have informations: Film with author: Jack , Title: Avatar , Year: 2009 Gen: Aventura Duration: 150 Age restriction: 18\n",
      "Item: Film have informations: Film with author: Cristopher Nolan , Title: Inception , Year: 2010 Gen: Drama Duration: 180 Age restriction: 18\n",
      "Item: Magazine have informations: Magazine with author: Jack , Title: Naruto , Year: 2021 Gen: Anime Volume: 1 Nr: 1 Color: color Collection: Manga\n",
      "Item: Magazine have informations: Magazine with author: Dove , Title: One Piece , Year: 2021 Gen: Anime Volume: 1 Nr: 2 Color: color Collection: Manga\n",
      "Item: Magazine have informations: Magazine with author: Franco , Title: Bleach , Year: 2021 Gen: Anime Volume: 1 Nr: 3 Color: color Collection: Manga\n",
      "______After check______\n",
      "Item: Film have informations: Film with author: Cristopher Nolan , Title: Titanic , Year: 1997 Gen: Drama,Romance Duration: 120 Age restriction: 18\n",
      "Item: Film have informations: Film with author: Jack , Title: Avatar , Year: 2009 Gen: Aventura Duration: 150 Age restriction: 18\n",
      "Item: Film have informations: Film with author: Cristopher Nolan , Title: Inception , Year: 2010 Gen: Drama Duration: 180 Age restriction: 18\n",
      "Item: Magazine have informations: Magazine with author: Jack , Title: Naruto , Year: 2021 Gen: Anime Volume: 1 Nr: 1 Color: color Collection: Manga\n",
      "Item: Magazine have informations: Magazine with author: Dove , Title: One Piece , Year: 2021 Gen: Anime Volume: 1 Nr: 2 Color: color Collection: Manga\n",
      "Item: Magazine have informations: Magazine with author: Franco , Title: Bleach , Year: 2021 Gen: Anime Volume: 1 Nr: 3 Color: color Collection: Manga\n",
      "______After return______\n",
      "Item: Book have informations: Book with author: Ion , Title: Baltagul , Year: 2021 Gen: Crima,Mister Volume: 1\n",
      "Item: Book have informations: Book with author: Arghezi , Title: Testament , Year: 2021 Gen: Liric Volume: 2\n",
      "Item: Book have informations: Book with author: Caragiale , Title: O scrisoare Pierduta , Year: 2021 Gen: Comedie Volume: 3\n",
      "Item: Film have informations: Film with author: Cristopher Nolan , Title: Titanic , Year: 1997 Gen: Drama,Romance Duration: 120 Age restriction: 18\n",
      "Item: Film have informations: Film with author: Jack , Title: Avatar , Year: 2009 Gen: Aventura Duration: 150 Age restriction: 18\n",
      "Item: Film have informations: Film with author: Cristopher Nolan , Title: Inception , Year: 2010 Gen: Drama Duration: 180 Age restriction: 18\n",
      "Item: Magazine have informations: Magazine with author: Jack , Title: Naruto , Year: 2021 Gen: Anime Volume: 1 Nr: 1 Color: color Collection: Manga\n",
      "Item: Magazine have informations: Magazine with author: Dove , Title: One Piece , Year: 2021 Gen: Anime Volume: 1 Nr: 2 Color: color Collection: Manga\n",
      "Item: Magazine have informations: Magazine with author: Franco , Title: Bleach , Year: 2021 Gen: Anime Volume: 1 Nr: 3 Color: color Collection: Manga\n"
     ]
    }
   ],
   "execution_count": 29
  }
 ],
 "metadata": {
  "kernelspec": {
   "display_name": "Python 3",
   "language": "python",
   "name": "python3"
  },
  "language_info": {
   "codemirror_mode": {
    "name": "ipython",
    "version": 2
   },
   "file_extension": ".py",
   "mimetype": "text/x-python",
   "name": "python",
   "nbconvert_exporter": "python",
   "pygments_lexer": "ipython2",
   "version": "2.7.6"
  }
 },
 "nbformat": 4,
 "nbformat_minor": 5
}
