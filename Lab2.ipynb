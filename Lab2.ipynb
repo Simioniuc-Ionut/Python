{
 "cells": [
  {
   "metadata": {},
   "cell_type": "markdown",
   "source": [
    "Exercitiul 1 : \n",
    "Find The greatest common divisor of multiple numbers read from the console."
   ],
   "id": "6fde4b8a206c7555"
  },
  {
   "metadata": {},
   "cell_type": "code",
   "outputs": [],
   "execution_count": null,
   "source": "",
   "id": "93baee5dde7b34ee"
  },
  {
   "metadata": {
    "ExecuteTime": {
     "end_time": "2024-10-08T11:40:27.123964Z",
     "start_time": "2024-10-08T11:40:27.119398Z"
    }
   },
   "cell_type": "code",
   "source": [
    "from typing import List\n",
    "import random\n",
    "\n",
    "def multiple_gcd(nums : List[int]) -> int:\n",
    "    # len work for list, tuples, strings, dict\n",
    "    while len(nums) >= 2:\n",
    "        a = nums[0]\n",
    "        b = nums[1]\n",
    "        nums= nums[1:]\n",
    "        r = random.uniform(0,1)\n",
    "        \n",
    "        \n",
    "        if r >= 0.5:\n",
    "            c = gcd(a,b)\n",
    "        else:\n",
    "            c = gcd2(a,b)\n",
    "            # variable c is visible in all function scope because py use a lexical scoping implementation\n",
    "        nums[0] = c\n",
    "    return nums[0] # only one elm\n",
    "        \n",
    "\n",
    "def gcd(a, b):\n",
    "    while a != b:\n",
    "        if  a > b:\n",
    "            a = a - b\n",
    "        elif b > a:\n",
    "            b = b - a\n",
    "    return a # or b because a = b\n",
    "\n",
    "def gcd2(a ,b):\n",
    "    while b != 0:\n",
    "        r = a % b \n",
    "        a = b \n",
    "        b = r\n",
    "    return a     \n",
    "\n",
    "# debug\n",
    "# print(gcd(12, 18))\n",
    "# print(gcd2(12, 18))\n",
    "print(multiple_gcd([12, 18 , 6 , 9]))\n"
   ],
   "id": "initial_id",
   "outputs": [
    {
     "name": "stdout",
     "output_type": "stream",
     "text": [
      "3\n"
     ]
    }
   ],
   "execution_count": 49
  },
  {
   "metadata": {},
   "cell_type": "markdown",
   "source": [
    "Exercitiul 2: \n",
    "Write a script that calculates how many vowels are in a string."
   ],
   "id": "de1df945f3d423d9"
  },
  {
   "metadata": {
    "ExecuteTime": {
     "end_time": "2024-10-08T10:43:06.457483Z",
     "start_time": "2024-10-08T10:43:06.449272Z"
    }
   },
   "cell_type": "code",
   "source": [
    "vowel = 'aeiou'\n",
    "global count\n",
    "\n",
    "def count_vowels(s):\n",
    "        count = 0\n",
    "        for i in s:\n",
    "            if i in vowel:\n",
    "                count += 1\n",
    "        return count \n",
    "\n",
    "# test\n",
    "print(count_vowels('ana are mere'))\n"
   ],
   "id": "fdb39397c833d509",
   "outputs": [
    {
     "name": "stdout",
     "output_type": "stream",
     "text": [
      "6\n"
     ]
    }
   ],
   "execution_count": 14
  },
  {
   "metadata": {},
   "cell_type": "markdown",
   "source": [
    "Exercitiul 3:\n",
    "Write a script that receives two strings and prints the number of occurrences of the first string in the second"
   ],
   "id": "29b33d10235afad4"
  },
  {
   "metadata": {
    "ExecuteTime": {
     "end_time": "2024-10-08T10:43:06.474307Z",
     "start_time": "2024-10-08T10:43:06.466747Z"
    }
   },
   "cell_type": "code",
   "source": [
    "def count_occurrences(s1 : str, s2 : str) -> int:\n",
    "    if type(s1) != str or type(s2) != str:\n",
    "        return 'Invalid input'\n",
    "    return s2.count(s1) # count number of occurrences of s1 in s2\n",
    "\n",
    "# explica mi mai bine despre count\n",
    "\n",
    "print(count_occurrences('ana', 'ana are mere si pere si banane'))\n",
    "print(count_occurrences(1, 1234))"
   ],
   "id": "76d640369b0a6d32",
   "outputs": [
    {
     "name": "stdout",
     "output_type": "stream",
     "text": [
      "2\n",
      "Invalid input\n"
     ]
    }
   ],
   "execution_count": 15
  },
  {
   "metadata": {},
   "cell_type": "markdown",
   "source": [
    "Exercitiul 4:\n",
    "Write a script that converts a string of characters written in UpperCamelCase into lowercase_with_underscores."
   ],
   "id": "cbf32f237d16825a"
  },
  {
   "metadata": {
    "ExecuteTime": {
     "end_time": "2024-10-08T10:43:21.346092Z",
     "start_time": "2024-10-08T10:43:21.338396Z"
    }
   },
   "cell_type": "code",
   "source": [
    "\n",
    "def convert(s : str) -> str:\n",
    "    new_s = ''\n",
    "    for i in s:\n",
    "        if i.isupper():\n",
    "            new_s +='_' + i.lower()\n",
    "        else:\n",
    "            new_s += i\n",
    "    return new_s[1:]\n",
    "\n",
    "print(convert('CammelCaseYea'))\n",
    "            "
   ],
   "id": "7832f33a7d6f3c44",
   "outputs": [
    {
     "name": "stdout",
     "output_type": "stream",
     "text": [
      "cammel_case_yea\n"
     ]
    }
   ],
   "execution_count": 17
  },
  {
   "metadata": {},
   "cell_type": "markdown",
   "source": [
    "Exercitiul 5:\n",
    "Write a function that validates if a number is a palindrome."
   ],
   "id": "3cf6cfea8d54b30e"
  },
  {
   "metadata": {
    "ExecuteTime": {
     "end_time": "2024-10-08T10:50:50.597132Z",
     "start_time": "2024-10-08T10:50:50.590355Z"
    }
   },
   "cell_type": "code",
   "source": [
    "def is_palindrom(n : int) -> int:\n",
    "       str_n = str(n)\n",
    "       reversed_n = str_n[::-1] # start:stop:step\n",
    "       # start implicit incepe de la 0\n",
    "       # stop implicit se sfarseste la ultima poz implicit.\n",
    "       return n == int(reversed_n)\n",
    "\n",
    "print(is_palindrom(121))"
   ],
   "id": "c159d18da886c9d4",
   "outputs": [
    {
     "name": "stdout",
     "output_type": "stream",
     "text": [
      "True\n"
     ]
    }
   ],
   "execution_count": 24
  },
  {
   "metadata": {},
   "cell_type": "markdown",
   "source": [
    "Exercitiul 6:\n",
    "Write a function that extract a number from a text (for example if the text is \"An apple is 123 USD\", this function will return 123, or if the text is \"abc123abc\" the function will extract 123). The function will extract only the first number that is found."
   ],
   "id": "75fb3709705b0096"
  },
  {
   "metadata": {
    "ExecuteTime": {
     "end_time": "2024-10-08T11:02:22.203665Z",
     "start_time": "2024-10-08T11:02:22.195841Z"
    }
   },
   "cell_type": "code",
   "source": [
    "def extract_number(s : str) -> int:\n",
    "     nr=0\n",
    "     for i in s:\n",
    "         if i.isdigit():\n",
    "            nr=nr*10+int(i)\n",
    "         elif not i.isdigit() and nr != 0:\n",
    "             return nr\n",
    "     return nr\n",
    "\n",
    "print(extract_number('abc123abc23'))\n",
    "print(extract_number('abc 123 abc 23'))\n",
    "             "
   ],
   "id": "266d9f6d6a442a1f",
   "outputs": [
    {
     "name": "stdout",
     "output_type": "stream",
     "text": [
      "123\n",
      "123\n"
     ]
    }
   ],
   "execution_count": 29
  },
  {
   "metadata": {},
   "cell_type": "markdown",
   "source": [
    "Exercitiul 7:\n",
    "Write a function that counts how many bits with value 1 a number has. For example for number 24, the binary format is 00011000, meaning 2 bits with value \"1\""
   ],
   "id": "45d0e28abd9c09ba"
  },
  {
   "metadata": {
    "ExecuteTime": {
     "end_time": "2024-10-08T11:05:05.361246Z",
     "start_time": "2024-10-08T11:05:05.354843Z"
    }
   },
   "cell_type": "code",
   "source": [
    "def bits_count(n : int):\n",
    "    binary = bin(n)\n",
    "    str_b = str(binary)\n",
    "    print(str_b.count('1'))\n",
    "    \n",
    "bits_count(24)\n",
    "    \n",
    "    "
   ],
   "id": "11615ea4dec5033a",
   "outputs": [
    {
     "name": "stdout",
     "output_type": "stream",
     "text": [
      "2\n"
     ]
    }
   ],
   "execution_count": 32
  },
  {
   "metadata": {},
   "cell_type": "markdown",
   "source": [
    "Exercitiul 8:\n",
    "Write a function that counts how many words exists in a text. A text is considered to be form out of words that are separated by only ONE space. For example: \"I have Python exam\" has 4 words."
   ],
   "id": "662d41e018658dec"
  },
  {
   "metadata": {
    "ExecuteTime": {
     "end_time": "2024-10-08T11:19:47.330384Z",
     "start_time": "2024-10-08T11:19:47.321574Z"
    }
   },
   "cell_type": "code",
   "source": [
    "def count_words(s : str) -> int:\n",
    "    words = s.split(' ')\n",
    "    print(words)\n",
    "    return sum(1 for _ in words)\n",
    "\n",
    "def count_words2(s : str) -> int:\n",
    "    words = s.split(' ')\n",
    "    return len(words)\n",
    "#test|\n",
    "print(count_words('I have Python exam'))\n",
    "print(count_words('I have  Python exam'))"
   ],
   "id": "9d95e9e2db7f8c97",
   "outputs": [
    {
     "name": "stdout",
     "output_type": "stream",
     "text": [
      "['I', 'have', 'Python', 'exam']\n",
      "4\n",
      "['I', 'have', '', 'Python', 'exam']\n",
      "5\n"
     ]
    }
   ],
   "execution_count": 42
  },
  {
   "metadata": {},
   "cell_type": "code",
   "outputs": [],
   "execution_count": null,
   "source": "\n",
   "id": "60aa37b25e4caa35"
  }
 ],
 "metadata": {
  "kernelspec": {
   "display_name": "Python 3",
   "language": "python",
   "name": "python3"
  },
  "language_info": {
   "codemirror_mode": {
    "name": "ipython",
    "version": 2
   },
   "file_extension": ".py",
   "mimetype": "text/x-python",
   "name": "python",
   "nbconvert_exporter": "python",
   "pygments_lexer": "ipython2",
   "version": "2.7.6"
  }
 },
 "nbformat": 4,
 "nbformat_minor": 5
}
